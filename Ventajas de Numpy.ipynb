{
  "nbformat": 4,
  "nbformat_minor": 0,
  "metadata": {
    "colab": {
      "provenance": [],
      "authorship_tag": "ABX9TyPBFcKwBg8Yhkrkl6myypVM",
      "include_colab_link": true
    },
    "kernelspec": {
      "name": "python3",
      "display_name": "Python 3"
    },
    "language_info": {
      "name": "python"
    }
  },
  "cells": [
    {
      "cell_type": "markdown",
      "metadata": {
        "id": "view-in-github",
        "colab_type": "text"
      },
      "source": [
        "<a href=\"https://colab.research.google.com/github/JacquelineDiazdeleon/Visualizaci-n-de-Datos/blob/main/Ventajas%20de%20Numpy.ipynb\" target=\"_parent\"><img src=\"https://colab.research.google.com/assets/colab-badge.svg\" alt=\"Open In Colab\"/></a>"
      ]
    },
    {
      "cell_type": "code",
      "execution_count": null,
      "metadata": {
        "id": "5W6flKdlol0e"
      },
      "outputs": [],
      "source": []
    },
    {
      "cell_type": "markdown",
      "source": [
        "Librería Numpy\n",
        "Nos permite manejar los arreglos\n",
        "Cargar librerias pandas y numpy"
      ],
      "metadata": {
        "id": "6-ZSNh8BonTD"
      }
    },
    {
      "cell_type": "code",
      "source": [
        "import pandas as pd\n",
        "import numpy as np"
      ],
      "metadata": {
        "id": "cpk0vEgEoz_c"
      },
      "execution_count": 1,
      "outputs": []
    },
    {
      "cell_type": "markdown",
      "source": [
        "Crear un DataFrame con datos sucios"
      ],
      "metadata": {
        "id": "LnYegEayo4Os"
      }
    },
    {
      "cell_type": "code",
      "source": [
        "     df = pd.DataFrame({\n",
        "    \"A\": [1, 2, np.nan, 4, 5],\n",
        "    \"B\": [5, 6, 7, np.nan, 9],\n",
        "    \"C\": [\"a\", \"b\", \"c\", \"d\", \"e\"],\n",
        "    \"D\": [\"foo\", \"bar\", \"foo\", \"bar\", \"foo\"]\n",
        "})\n",
        "\n",
        "print(\"DataFrame original:\")\n",
        "print(df)"
      ],
      "metadata": {
        "colab": {
          "base_uri": "https://localhost:8080/"
        },
        "id": "CqVzt0P7o8xA",
        "outputId": "9dcb550d-7362-4aee-ecff-d85dad3e2323"
      },
      "execution_count": 3,
      "outputs": [
        {
          "output_type": "stream",
          "name": "stdout",
          "text": [
            "DataFrame original:\n",
            "     A    B  C    D\n",
            "0  1.0  5.0  a  foo\n",
            "1  2.0  6.0  b  bar\n",
            "2  NaN  7.0  c  foo\n",
            "3  4.0  NaN  d  bar\n",
            "4  5.0  9.0  e  foo\n"
          ]
        }
      ]
    },
    {
      "cell_type": "markdown",
      "source": [
        "Eliminar filas con valores nulos"
      ],
      "metadata": {
        "id": "aUK6SD9XqMfw"
      }
    },
    {
      "cell_type": "code",
      "source": [
        "df_clean = df.dropna()\n",
        "print(\"\\nDataFrame sin filas nulas:\")\n",
        "print(df_clean)"
      ],
      "metadata": {
        "colab": {
          "base_uri": "https://localhost:8080/"
        },
        "id": "u3cKPgaYqQ3-",
        "outputId": "33400602-ef4e-4d0f-e372-2b03ec213e6e"
      },
      "execution_count": 4,
      "outputs": [
        {
          "output_type": "stream",
          "name": "stdout",
          "text": [
            "\n",
            "DataFrame sin filas nulas:\n",
            "     A    B  C    D\n",
            "0  1.0  5.0  a  foo\n",
            "1  2.0  6.0  b  bar\n",
            "4  5.0  9.0  e  foo\n"
          ]
        }
      ]
    },
    {
      "cell_type": "markdown",
      "source": [
        "Rellenar valores nulos"
      ],
      "metadata": {
        "id": "x-zTBz1wrNwK"
      }
    },
    {
      "cell_type": "code",
      "source": [
        "df_filled = df.fillna(value={\"A\": df[\"A\"].mean(), \"B\": df[\"B\"].median()})\n",
        "print(\"\\nDataFrame con valores nulos rellenados:\")\n",
        "print(df_filled)"
      ],
      "metadata": {
        "colab": {
          "base_uri": "https://localhost:8080/"
        },
        "id": "MShbn1KIrQSu",
        "outputId": "3cfaf497-c3d4-47b4-bb66-fd625ec373ba"
      },
      "execution_count": 5,
      "outputs": [
        {
          "output_type": "stream",
          "name": "stdout",
          "text": [
            "\n",
            "DataFrame con valores nulos rellenados:\n",
            "     A    B  C    D\n",
            "0  1.0  5.0  a  foo\n",
            "1  2.0  6.0  b  bar\n",
            "2  3.0  7.0  c  foo\n",
            "3  4.0  6.5  d  bar\n",
            "4  5.0  9.0  e  foo\n"
          ]
        }
      ]
    },
    {
      "cell_type": "markdown",
      "source": [
        "Eliminar duplicados"
      ],
      "metadata": {
        "id": "DHDTBGqFsSqE"
      }
    },
    {
      "cell_type": "code",
      "source": [
        "df_no_duplicates = df.drop_duplicates(subset=[\"D\"])\n",
        "print(\"\\nDataFrame sin duplicados en la columna:\")\n",
        "print(df_no_duplicates)"
      ],
      "metadata": {
        "colab": {
          "base_uri": "https://localhost:8080/"
        },
        "id": "j35CgH3At3X5",
        "outputId": "8d268d27-2562-42f8-b798-16a3088e5d47"
      },
      "execution_count": 6,
      "outputs": [
        {
          "output_type": "stream",
          "name": "stdout",
          "text": [
            "\n",
            "DataFrame sin duplicados en la columna:\n",
            "     A    B  C    D\n",
            "0  1.0  5.0  a  foo\n",
            "1  2.0  6.0  b  bar\n"
          ]
        }
      ]
    },
    {
      "cell_type": "markdown",
      "source": [
        "Renombrar columnas"
      ],
      "metadata": {
        "id": "4jQDpgXKugNw"
      }
    },
    {
      "cell_type": "code",
      "source": [
        "df_renamed = df.rename(columns={\"A\": \"Alpha\", \"B\": \"Beta\",\n",
        "                                \"C\": \"Charlie\", \"D\": \"Delta\"})\n",
        "print(\"\\nDataFrame con nombres de columnas renombradas:\")\n",
        "print(df_renamed)"
      ],
      "metadata": {
        "colab": {
          "base_uri": "https://localhost:8080/"
        },
        "id": "mBFpHA6GuiZn",
        "outputId": "fda4e5f1-5815-40ae-8e0e-fdd787f8bb47"
      },
      "execution_count": 7,
      "outputs": [
        {
          "output_type": "stream",
          "name": "stdout",
          "text": [
            "\n",
            "DataFrame con nombres de columnas renombradas:\n",
            "   Alpha  Beta Charlie Delta\n",
            "0    1.0   5.0       a   foo\n",
            "1    2.0   6.0       b   bar\n",
            "2    NaN   7.0       c   foo\n",
            "3    4.0   NaN       d   bar\n",
            "4    5.0   9.0       e   foo\n"
          ]
        }
      ]
    }
  ]
}