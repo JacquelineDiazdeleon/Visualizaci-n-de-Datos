{
  "nbformat": 4,
  "nbformat_minor": 0,
  "metadata": {
    "colab": {
      "provenance": [],
      "authorship_tag": "ABX9TyM4jONt4eHTzSC9gRb5QqP2",
      "include_colab_link": true
    },
    "kernelspec": {
      "name": "python3",
      "display_name": "Python 3"
    },
    "language_info": {
      "name": "python"
    }
  },
  "cells": [
    {
      "cell_type": "markdown",
      "metadata": {
        "id": "view-in-github",
        "colab_type": "text"
      },
      "source": [
        "<a href=\"https://colab.research.google.com/github/JacquelineDiazdeleon/Visualizaci-n-de-Datos/blob/main/Operaciones%20b%C3%A1sicas.ipynb\" target=\"_parent\"><img src=\"https://colab.research.google.com/assets/colab-badge.svg\" alt=\"Open In Colab\"/></a>"
      ]
    },
    {
      "cell_type": "markdown",
      "source": [
        "Operaciones_básicas"
      ],
      "metadata": {
        "id": "PYaR1pC9venN"
      }
    },
    {
      "cell_type": "code",
      "execution_count": 1,
      "metadata": {
        "id": "wVNR8MEhvbJA"
      },
      "outputs": [],
      "source": [
        "import pandas as pd"
      ]
    },
    {
      "cell_type": "code",
      "source": [
        "df = pd.DataFrame({\n",
        "    \"Nombre\":[\"Ana\",\"Juan\",\"María\",\"Carlos\",\"Sofía\"],\n",
        "    \"Edad\":[25,30,22,28,35],\n",
        "    \"Ciudad\":[\"Madrid\",\"Barcelona\",\"Madrid\",\"Valencia\",\"Barcelona\"],\n",
        "    \"Puntuación\":[85,92,78,95,88]\n",
        "})\n",
        "\n",
        "print(\"DataFrame Original\")\n",
        "print(df)\n",
        ""
      ],
      "metadata": {
        "colab": {
          "base_uri": "https://localhost:8080/"
        },
        "id": "1NAQJbk7vjNr",
        "outputId": "57cfd838-1846-475f-f6d2-00fe9885bf48"
      },
      "execution_count": 3,
      "outputs": [
        {
          "output_type": "stream",
          "name": "stdout",
          "text": [
            "DataFrame Original\n",
            "   Nombre  Edad     Ciudad  Puntuación\n",
            "0     Ana    25     Madrid          85\n",
            "1    Juan    30  Barcelona          92\n",
            "2   María    22     Madrid          78\n",
            "3  Carlos    28   Valencia          95\n",
            "4   Sofía    35  Barcelona          88\n"
          ]
        }
      ]
    },
    {
      "cell_type": "markdown",
      "source": [
        "Filtrado"
      ],
      "metadata": {
        "id": "4jsoTTQFwpmF"
      }
    },
    {
      "cell_type": "code",
      "source": [
        "mayores_25 = df[df[\"Edad\"] > 25]\n",
        "print(\"\\nPersonas mayores de 25 años:\")\n",
        "print(mayores_25)"
      ],
      "metadata": {
        "colab": {
          "base_uri": "https://localhost:8080/"
        },
        "id": "MfMcD0cawrQH",
        "outputId": "4a70bd27-5f34-4ec7-8772-22810d798713"
      },
      "execution_count": 4,
      "outputs": [
        {
          "output_type": "stream",
          "name": "stdout",
          "text": [
            "\n",
            "Personas mayores de 25 años:\n",
            "   Nombre  Edad     Ciudad  Puntuación\n",
            "1    Juan    30  Barcelona          92\n",
            "3  Carlos    28   Valencia          95\n",
            "4   Sofía    35  Barcelona          88\n"
          ]
        }
      ]
    },
    {
      "cell_type": "markdown",
      "source": [
        "Agrupación y agregación"
      ],
      "metadata": {
        "id": "MptqCPXrxQ-K"
      }
    },
    {
      "cell_type": "code",
      "source": [
        "resultado = df[df[\"Edad\"]> 25].groupby(\"Ciudad\")[\"Puntuación\"].max()\n",
        "print(\"\\nMáxima puntuación por ciudad para personas mayores de 25 años:\")\n",
        "print(resultado)"
      ],
      "metadata": {
        "colab": {
          "base_uri": "https://localhost:8080/"
        },
        "id": "dt3GsiDkxVfr",
        "outputId": "25d34daf-b54a-437e-a1bd-c96ddfb536ff"
      },
      "execution_count": 5,
      "outputs": [
        {
          "output_type": "stream",
          "name": "stdout",
          "text": [
            "\n",
            "Máxima puntuación por ciudad para personas mayores de 25 años:\n",
            "Ciudad\n",
            "Barcelona    92\n",
            "Valencia     95\n",
            "Name: Puntuación, dtype: int64\n"
          ]
        }
      ]
    }
  ]
}