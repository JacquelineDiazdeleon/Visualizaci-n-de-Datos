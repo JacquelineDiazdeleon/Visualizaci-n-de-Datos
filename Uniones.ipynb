{
  "nbformat": 4,
  "nbformat_minor": 0,
  "metadata": {
    "colab": {
      "provenance": [],
      "authorship_tag": "ABX9TyOd9jTaPcIzZ3GVDkopQ7K7",
      "include_colab_link": true
    },
    "kernelspec": {
      "name": "python3",
      "display_name": "Python 3"
    },
    "language_info": {
      "name": "python"
    }
  },
  "cells": [
    {
      "cell_type": "markdown",
      "metadata": {
        "id": "view-in-github",
        "colab_type": "text"
      },
      "source": [
        "<a href=\"https://colab.research.google.com/github/JacquelineDiazdeleon/Visualizaci-n-de-Datos/blob/main/Uniones.ipynb\" target=\"_parent\"><img src=\"https://colab.research.google.com/assets/colab-badge.svg\" alt=\"Open In Colab\"/></a>"
      ]
    },
    {
      "cell_type": "markdown",
      "source": [
        "Ejercicio 6\n",
        "\n",
        "Tipos de uniones (Joins) en python\n",
        "\n",
        "1. Inner Join\n"
      ],
      "metadata": {
        "id": "5abn-W6Extt_"
      }
    },
    {
      "cell_type": "code",
      "source": [
        "import pandas as pd"
      ],
      "metadata": {
        "id": "Bb09vu0LyDZB"
      },
      "execution_count": 1,
      "outputs": []
    },
    {
      "cell_type": "code",
      "source": [
        "df1 = pd.DataFrame({\n",
        "    'ID' : [1, 2, 3, 4],\n",
        "    \"Nombre\": [\"Ana\", \"Juan\", \"María\", \"Carlos\"],\n",
        "    \"Departamento\": [\"Ventas\", \"IT\", \"Marketing\", \"RH\"]\n",
        "    })\n",
        "\n",
        "df2 = pd. DataFrame({\n",
        "    \"ID\": [3, 4, 5, 6],\n",
        "    \"Salario\": [\"50000\", \"60000\", \"55000\", \"65000\"],\n",
        "})\n",
        "\n",
        "print(\"DataFrame 1:\")\n",
        "print(df1)\n",
        "print(\"DataFrame 2:\")\n",
        "print(df2)"
      ],
      "metadata": {
        "colab": {
          "base_uri": "https://localhost:8080/"
        },
        "id": "QKl-qNdpyJej",
        "outputId": "e3d5b4a8-81b9-4e6f-d5af-e0414c4cb5b8"
      },
      "execution_count": 5,
      "outputs": [
        {
          "output_type": "stream",
          "name": "stdout",
          "text": [
            "DataFrame 1:\n",
            "   ID  Nombre Departamento\n",
            "0   1     Ana       Ventas\n",
            "1   2    Juan           IT\n",
            "2   3   María    Marketing\n",
            "3   4  Carlos           RH\n",
            "DataFrame 2:\n",
            "   ID Salario\n",
            "0   3   50000\n",
            "1   4   60000\n",
            "2   5   55000\n",
            "3   6   65000\n"
          ]
        }
      ]
    },
    {
      "cell_type": "markdown",
      "source": [
        "Fusión inner"
      ],
      "metadata": {
        "id": "gXUuRanHzXUz"
      }
    },
    {
      "cell_type": "code",
      "source": [
        "inner_merge = pd.merge(df1, df2, on=\"ID\", how=\"inner\")\n",
        "print(\"Fusion inner:\")\n",
        "print(inner_merge)"
      ],
      "metadata": {
        "colab": {
          "base_uri": "https://localhost:8080/"
        },
        "id": "tuI7B1ZmzaEi",
        "outputId": "30e62eb5-91a5-49ae-b86c-77226125c63a"
      },
      "execution_count": 4,
      "outputs": [
        {
          "output_type": "stream",
          "name": "stdout",
          "text": [
            "Fusion inner:\n",
            "   ID  Nombre Departamento Salario\n",
            "0   3   María    Marketing   50000\n",
            "1   4  Carlos           RH   60000\n"
          ]
        }
      ]
    },
    {
      "cell_type": "markdown",
      "source": [
        "Fusión outer"
      ],
      "metadata": {
        "id": "x1EIWnsv0Zs-"
      }
    },
    {
      "cell_type": "code",
      "source": [
        "outer_merge = pd.merge(df1, df2, on=\"ID\", how=\"outer\")\n",
        "print(\"Fusion outer:\")\n",
        "print(outer_merge)"
      ],
      "metadata": {
        "colab": {
          "base_uri": "https://localhost:8080/"
        },
        "id": "zeWL0Opx0cI4",
        "outputId": "940b4a5b-7f0b-4d7a-8a1c-dadacab7f1f5"
      },
      "execution_count": 6,
      "outputs": [
        {
          "output_type": "stream",
          "name": "stdout",
          "text": [
            "Fusion outer:\n",
            "   ID  Nombre Departamento Salario\n",
            "0   1     Ana       Ventas     NaN\n",
            "1   2    Juan           IT     NaN\n",
            "2   3   María    Marketing   50000\n",
            "3   4  Carlos           RH   60000\n",
            "4   5     NaN          NaN   55000\n",
            "5   6     NaN          NaN   65000\n"
          ]
        }
      ]
    },
    {
      "cell_type": "markdown",
      "source": [
        "Fusión left"
      ],
      "metadata": {
        "id": "WbwoXPfQ02gX"
      }
    },
    {
      "cell_type": "code",
      "source": [
        "left_merge = pd.merge(df1, df2, on=\"ID\", how=\"left\")\n",
        "print(\"Fusion left:\")\n",
        "print(left_merge)"
      ],
      "metadata": {
        "colab": {
          "base_uri": "https://localhost:8080/"
        },
        "id": "X2Mqu5OD05zo",
        "outputId": "5edb6f51-16df-4428-9012-e27210377d16"
      },
      "execution_count": 9,
      "outputs": [
        {
          "output_type": "stream",
          "name": "stdout",
          "text": [
            "Fusion left:\n",
            "   ID  Nombre Departamento Salario\n",
            "0   1     Ana       Ventas     NaN\n",
            "1   2    Juan           IT     NaN\n",
            "2   3   María    Marketing   50000\n",
            "3   4  Carlos           RH   60000\n"
          ]
        }
      ]
    },
    {
      "cell_type": "markdown",
      "source": [
        "Fusión right"
      ],
      "metadata": {
        "id": "qBuvYBcv1UFZ"
      }
    },
    {
      "cell_type": "code",
      "source": [
        "right_merge = pd.merge(df1, df2, on=\"ID\", how=\"right\")\n",
        "print(\"Fusion right:\")\n",
        "print(right_merge)"
      ],
      "metadata": {
        "colab": {
          "base_uri": "https://localhost:8080/"
        },
        "id": "Zd4oSMr11YkY",
        "outputId": "69b03912-d2de-46e8-b0af-e6a7d168fce2"
      },
      "execution_count": 10,
      "outputs": [
        {
          "output_type": "stream",
          "name": "stdout",
          "text": [
            "Fusion right:\n",
            "   ID  Nombre Departamento Salario\n",
            "0   3   María    Marketing   50000\n",
            "1   4  Carlos           RH   60000\n",
            "2   5     NaN          NaN   55000\n",
            "3   6     NaN          NaN   65000\n"
          ]
        }
      ]
    },
    {
      "cell_type": "markdown",
      "source": [
        "Concatenación"
      ],
      "metadata": {
        "id": "PuVvic1h1k_u"
      }
    },
    {
      "cell_type": "code",
      "source": [
        "df3 = pd.DataFrame({\n",
        "    \"ID\": [7, 8],\n",
        "    \"Nombre\": [\"Sofía\", \"Pedro\"],\n",
        "    \"Departamento\": [\"Finanzas\", \"Ventas\"]\n",
        "})\n",
        "\n",
        "concatenated1 = pd.concat([df1, df3])\n",
        "print(\"Concatenación de DataFrames:\")\n",
        "print(concatenated1)"
      ],
      "metadata": {
        "colab": {
          "base_uri": "https://localhost:8080/"
        },
        "id": "iv0TwrSV1nzd",
        "outputId": "c2aa03f8-0f1d-4020-da7c-c90718a7d4f0"
      },
      "execution_count": 13,
      "outputs": [
        {
          "output_type": "stream",
          "name": "stdout",
          "text": [
            "Concatenación de DataFrames:\n",
            "   ID  Nombre Departamento\n",
            "0   1     Ana       Ventas\n",
            "1   2    Juan           IT\n",
            "2   3   María    Marketing\n",
            "3   4  Carlos           RH\n",
            "0   7   Sofía     Finanzas\n",
            "1   8   Pedro       Ventas\n"
          ]
        }
      ]
    }
  ]
}